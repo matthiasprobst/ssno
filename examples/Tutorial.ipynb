{
 "cells": [
  {
   "cell_type": "markdown",
   "id": "a339362b-50c3-4a7c-930c-d2f09b917012",
   "metadata": {},
   "source": [
    "# Tutorial"
   ]
  },
  {
   "cell_type": "markdown",
   "id": "5db5fa72-1f67-4148-bfc0-729fde9c232d",
   "metadata": {},
   "source": [
    "## Describing a StandardName\n",
    "\n",
    "The json-ld content below describes a standard name \"x_velocity\", defined in a standard name table at URL \"www.my_table.com\".\n",
    "\n",
    "We will write the content to a file and then read it with `rdflib` to show that everything works as expected:"
   ]
  },
  {
   "cell_type": "code",
   "execution_count": 1,
   "id": "2688a116-b466-4f79-af73-4554f091e2fd",
   "metadata": {},
   "outputs": [],
   "source": [
    "#! pip install rdflib"
   ]
  },
  {
   "cell_type": "code",
   "execution_count": 2,
   "id": "cdced01f-bb8e-4141-bb40-5dd0995d67d7",
   "metadata": {},
   "outputs": [],
   "source": [
    "import rdflib"
   ]
  },
  {
   "cell_type": "code",
   "execution_count": 3,
   "id": "0e3548c9-efa8-4077-a5f8-225bfc81a694",
   "metadata": {},
   "outputs": [],
   "source": [
    "json_ld_content1 = \"\"\"\n",
    "{\n",
    "  \"@context\": {\n",
    "    \"@import\": \"https://raw.githubusercontent.com/matthiasprobst/ssno/main/ssno_context.jsonld\"\n",
    "  },\n",
    "  \"@graph\": [\n",
    "    {\n",
    "      \"@id\": \"_:b0\",\n",
    "      \"@type\": \"StandardName\",\n",
    "      \"standard_name\": \"x_velocity\",\n",
    "      \"canonical_units\": \"m/s\",\n",
    "      \"description\": \"Velocity in x-axis direction.\",\n",
    "      \"defined in standard name table\": \"www.my_table.com\"\n",
    "    },\n",
    "    {\n",
    "      \"@id\": \"https://doi.org/10.5281/zenodo.10428817\",\n",
    "      \"@type\": \"StandardNameTable\",\n",
    "      \"has doi\": \"https://doi.org/10.5281/zenodo.10428817\"\n",
    "    }\n",
    "  ]\n",
    "}\n",
    "\"\"\""
   ]
  },
  {
   "cell_type": "code",
   "execution_count": 4,
   "id": "4ad6ff02-b0da-4793-8258-13bb051da8d8",
   "metadata": {},
   "outputs": [],
   "source": [
    "with open('standard_name.jsonld', 'w') as f:\n",
    "    f.write(json_ld_content1)"
   ]
  },
  {
   "cell_type": "code",
   "execution_count": 5,
   "id": "b98c8a63-c8ca-4995-8f60-b4ddeecdd612",
   "metadata": {},
   "outputs": [
    {
     "name": "stdout",
     "output_type": "stream",
     "text": [
      "b0 | https://matthiasprobst.github.io/ssno#definedInStandardNameTable | www.my_table.com\n",
      "b0 | https://matthiasprobst.github.io/ssno#name | x_velocity\n",
      "b0 | http://www.w3.org/1999/02/22-rdf-syntax-ns#type | https://matthiasprobst.github.io/ssno#StandardName\n",
      "b0 | https://schema.org/description | Velocity in x-axis direction.\n",
      "https://doi.org/10.5281/zenodo.10428817 | http://www.w3.org/1999/02/22-rdf-syntax-ns#type | https://matthiasprobst.github.io/ssno#StandardNameTable\n",
      "b0 | https://matthiasprobst.github.io/ssno#canonicalUnits | m/s\n",
      "https://doi.org/10.5281/zenodo.10428817 | https://matthiasprobst.github.io/ssno#hasDOI | https://doi.org/10.5281/zenodo.10428817\n"
     ]
    }
   ],
   "source": [
    "g = rdflib.Graph()\n",
    "g.parse('standard_name.jsonld', format='json-ld')\n",
    "\n",
    "for s, p, o in g:\n",
    "    print(s, '|', p, '|', o)"
   ]
  },
  {
   "cell_type": "code",
   "execution_count": 6,
   "id": "2793bce5-b109-451a-9eec-7e9dd79535ba",
   "metadata": {},
   "outputs": [],
   "source": [
    "json_ld_content2 = \"\"\"\n",
    "{\n",
    "  \"@context\": {\n",
    "    \"@import\": \"https://raw.githubusercontent.com/matthiasprobst/ssno/main/ssno_context.jsonld\"\n",
    "  },\n",
    "  \"@graph\": [\n",
    "    {\n",
    "      \"@id\": \"https://doi.org/10.5281/zenodo.10428817\",\n",
    "      \"@type\": \"StandardNameTable\",\n",
    "      \"doi\": \"https://doi.org/10.5281/zenodo.10428817\",\n",
    "      \"has title\": \"My Table\",\n",
    "      \"description\": \"My table description\",\n",
    "      \"standard name\": [\n",
    "        {\n",
    "          \"@id\": \"_:b0\",\n",
    "          \"@type\": \"StandardName\",\n",
    "          \"standard_name\": \"x_velocity\",\n",
    "          \"canonical_units\": \"m/s\",\n",
    "          \"description\": \"Velocity in x-axis direction.\",\n",
    "          \"defined in standard name table\": \"https://doi.org/10.5281/zenodo.10428817\"\n",
    "        },\n",
    "        {\n",
    "          \"@id\": \"_:b1\",\n",
    "          \"@type\": \"StandardName\",\n",
    "          \"standard_name\": \"y_velocity\",\n",
    "          \"canonical_units\": \"m/s\",\n",
    "          \"description\": \"Velocity in y-axis direction.\",\n",
    "          \"defined in standard name table\": \"https://doi.org/10.5281/zenodo.10428817\"\n",
    "        }\n",
    "      ]\n",
    "    }\n",
    "  ]\n",
    "}\n",
    "\"\"\""
   ]
  },
  {
   "cell_type": "code",
   "execution_count": 7,
   "id": "715098a1-1ae9-48bf-bacb-8bc8650c74ac",
   "metadata": {},
   "outputs": [],
   "source": [
    "with open('standard_name_table.jsonld', 'w') as f:\n",
    "    f.write(json_ld_content2)"
   ]
  },
  {
   "cell_type": "code",
   "execution_count": 8,
   "id": "9a91a632-24b5-46df-a9f8-80aaabb929ec",
   "metadata": {},
   "outputs": [
    {
     "name": "stdout",
     "output_type": "stream",
     "text": [
      "b0 | http://www.w3.org/1999/02/22-rdf-syntax-ns#type | https://matthiasprobst.github.io/ssno#StandardName\n",
      "b0 | https://matthiasprobst.github.io/ssno#canonicalUnits | m/s\n",
      "b0 | https://matthiasprobst.github.io/ssno#definedInStandardNameTable | https://doi.org/10.5281/zenodo.10428817\n",
      "b0 | https://matthiasprobst.github.io/ssno#name | x_velocity\n",
      "b0 | https://schema.org/description | Velocity in x-axis direction.\n",
      "b1 | http://www.w3.org/1999/02/22-rdf-syntax-ns#type | https://matthiasprobst.github.io/ssno#StandardName\n",
      "b1 | https://matthiasprobst.github.io/ssno#canonicalUnits | m/s\n",
      "b1 | https://matthiasprobst.github.io/ssno#definedInStandardNameTable | https://doi.org/10.5281/zenodo.10428817\n",
      "b1 | https://matthiasprobst.github.io/ssno#name | y_velocity\n",
      "b1 | https://schema.org/description | Velocity in y-axis direction.\n",
      "https://doi.org/10.5281/zenodo.10428817 | http://www.w3.org/1999/02/22-rdf-syntax-ns#type | https://matthiasprobst.github.io/ssno#StandardNameTable\n",
      "https://doi.org/10.5281/zenodo.10428817 | https://matthiasprobst.github.io/ssno#doi | https://doi.org/10.5281/zenodo.10428817\n",
      "https://doi.org/10.5281/zenodo.10428817 | https://matthiasprobst.github.io/ssno#hasStandardName | b0\n",
      "https://doi.org/10.5281/zenodo.10428817 | https://matthiasprobst.github.io/ssno#hasStandardName | b1\n",
      "https://doi.org/10.5281/zenodo.10428817 | https://matthiasprobst.github.io/ssno#hasTitle | My Table\n",
      "https://doi.org/10.5281/zenodo.10428817 | https://schema.org/description | My table description\n"
     ]
    }
   ],
   "source": [
    "g = rdflib.Graph()\n",
    "g.parse('standard_name_table.jsonld', format='json-ld')\n",
    "\n",
    "for s, p, o in sorted(g):\n",
    "    print(s, '|', p, '|', o)"
   ]
  },
  {
   "cell_type": "code",
   "execution_count": null,
   "id": "f5968223-0e63-46f6-a1dc-f68bc54d5410",
   "metadata": {},
   "outputs": [],
   "source": []
  }
 ],
 "metadata": {
  "kernelspec": {
   "display_name": "Python 3 (ipykernel)",
   "language": "python",
   "name": "python3"
  },
  "language_info": {
   "codemirror_mode": {
    "name": "ipython",
    "version": 3
   },
   "file_extension": ".py",
   "mimetype": "text/x-python",
   "name": "python",
   "nbconvert_exporter": "python",
   "pygments_lexer": "ipython3",
   "version": "3.8.18"
  }
 },
 "nbformat": 4,
 "nbformat_minor": 5
}
