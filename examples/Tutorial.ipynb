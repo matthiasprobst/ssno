{
 "cells": [
  {
   "cell_type": "markdown",
   "id": "a339362b-50c3-4a7c-930c-d2f09b917012",
   "metadata": {},
   "source": [
    "# Tutorial\n",
    "\n",
    "This tutorial explains how the simple standard name ontology can be used to enrich data.\n",
    "\n",
    "Prerequisite:\n",
    "- Knowledge about JSON format and [JSON-LD](https://json-ld.org/)"
   ]
  },
  {
   "cell_type": "markdown",
   "id": "5db5fa72-1f67-4148-bfc0-729fde9c232d",
   "metadata": {},
   "source": [
    "## Describing a StandardName\n",
    "\n",
    "The JSON-LD content below describes a standard name \"x_velocity\", defined in a standard name table at (imaginary) URL \"www.example.org/mytable\".\n",
    "\n",
    "We will write the content to a file and then read it with `rdflib` to show that everything works as expected:"
   ]
  },
  {
   "cell_type": "code",
   "execution_count": 1,
   "id": "cdced01f-bb8e-4141-bb40-5dd0995d67d7",
   "metadata": {},
   "outputs": [],
   "source": [
    "import rdflib"
   ]
  },
  {
   "cell_type": "markdown",
   "id": "25fafa0f-1727-4e0a-a0d5-88e67aeae3cf",
   "metadata": {},
   "source": [
    "The [context file](https://raw.githubusercontent.com/matthiasprobst/ssno/main/ssno_context.jsonld) is available in the GitHub repository. Simple include it via the \"@import\" key in the \"@context\" part.\n",
    "\n",
    "In the following, we will describe the standard name \"x_velocity\". It has a canonical unit \"m/s\" (described by [qudt ontology](https://qudt.org/)) and a description. Every standard name either has a unique ID, hence a IRI, or is part of a *Standard Name Table* which is registered and accessible online. In the following, we use the latter, where \"x_velocity\" is part of the table, which can be found here: [https://doi.org/10.5281/zenodo.10428817](https://doi.org/10.5281/zenodo.10428817):"
   ]
  },
  {
   "cell_type": "code",
   "execution_count": 2,
   "id": "0e3548c9-efa8-4077-a5f8-225bfc81a694",
   "metadata": {},
   "outputs": [
    {
     "name": "stdout",
     "output_type": "stream",
     "text": [
      "\n",
      "{\n",
      "  \"@context\": {\n",
      "    \"@import\": \"https://raw.githubusercontent.com/matthiasprobst/ssno/main/ssno_context.jsonld\"\n",
      "  },\n",
      "  \"@graph\": [\n",
      "    {\n",
      "      \"@id\": \"_:b0\",\n",
      "      \"@type\": \"StandardName\",\n",
      "      \"standard name\": \"x_velocity\",\n",
      "      \"canonical units\": \"https://qudt.org/vocab/unit/M-PER-SEC\",\n",
      "      \"description\": \"Velocity in x-axis direction.\",\n",
      "      \"standard name table\": \"www.example.org/mytable\"\n",
      "    },\n",
      "    {\n",
      "      \"@id\": \"https://doi.org/10.5281/zenodo.10428817\",\n",
      "      \"@type\": \"StandardNameTable\",\n",
      "      \"identifier\": \"https://doi.org/10.5281/zenodo.10428817\"\n",
      "    }\n",
      "  ]\n",
      "}\n",
      "\n"
     ]
    }
   ],
   "source": [
    "json_ld_content1 = \"\"\"\n",
    "{\n",
    "  \"@context\": {\n",
    "    \"@import\": \"https://raw.githubusercontent.com/matthiasprobst/ssno/main/ssno_context.jsonld\"\n",
    "  },\n",
    "  \"@graph\": [\n",
    "    {\n",
    "      \"@id\": \"_:b0\",\n",
    "      \"@type\": \"StandardName\",\n",
    "      \"standard name\": \"x_velocity\",\n",
    "      \"canonical units\": \"https://qudt.org/vocab/unit/M-PER-SEC\",\n",
    "      \"description\": \"Velocity in x-axis direction.\",\n",
    "      \"standard name table\": \"www.example.org/mytable\"\n",
    "    },\n",
    "    {\n",
    "      \"@id\": \"https://doi.org/10.5281/zenodo.10428817\",\n",
    "      \"@type\": \"StandardNameTable\",\n",
    "      \"identifier\": \"https://doi.org/10.5281/zenodo.10428817\"\n",
    "    }\n",
    "  ]\n",
    "}\n",
    "\"\"\"\n",
    "print(json_ld_content1)"
   ]
  },
  {
   "cell_type": "markdown",
   "id": "9be1ee8c-0a99-43f6-9622-1bb3c3b55caf",
   "metadata": {},
   "source": [
    "## Write data to file\n",
    "\n",
    "Writing the above to file is straight forward:"
   ]
  },
  {
   "cell_type": "code",
   "execution_count": 3,
   "id": "4ad6ff02-b0da-4793-8258-13bb051da8d8",
   "metadata": {},
   "outputs": [],
   "source": [
    "with open('standard_name.jsonld', 'w') as f:\n",
    "    f.write(json_ld_content1)"
   ]
  },
  {
   "cell_type": "markdown",
   "id": "ec3cec30-db5a-4ad9-af0c-11cdaa05a9c7",
   "metadata": {},
   "source": [
    "## Exploring the data\n",
    "\n",
    "JSON-LD data can be queried using the [SPARQL query language](https://www.w3.org/TR/sparql11-query/).\n",
    "\n",
    "We will search for all standard names which include the substring \"velocity\". For the above example, this is straight forward, but for the sake of simplicity this works just fine:"
   ]
  },
  {
   "cell_type": "code",
   "execution_count": 4,
   "id": "32af2a53-60a3-4b15-8cb3-dcf9074470b8",
   "metadata": {},
   "outputs": [
    {
     "name": "stderr",
     "output_type": "stream",
     "text": [
      "https://matthiasprobst.github.io/ssno#canonical units does not look like a valid URI, trying to serialize this will break.\n"
     ]
    }
   ],
   "source": [
    "g = rdflib.Graph()\n",
    "g.parse('standard_name.jsonld', format='json-ld')\n",
    "\n",
    "substring_name = 'velocity'\n",
    "\n",
    "qres = g.query(f\"\"\"\n",
    "PREFIX ssno: <https://matthiasprobst.github.io/ssno#>\n",
    "PREFIX dcterms: <http://purl.org/dc/terms/>\n",
    "\n",
    "SELECT ?standard_name ?description ?canonical_units\n",
    "WHERE {{\n",
    "    ?sn a ssno:StandardName .\n",
    "    ?sn ssno:standardName ?standard_name .\n",
    "    FILTER (CONTAINS(?standard_name, \"{substring_name}\"))\n",
    "    ?sn ssno:description ?description .\n",
    "    ?sn ssno:canonicalUnits ?canonical_units .\n",
    "}}\n",
    "\"\"\")"
   ]
  },
  {
   "cell_type": "markdown",
   "id": "afc8b301-1815-47dd-a344-0c56735d4a47",
   "metadata": {},
   "source": [
    "Results:"
   ]
  },
  {
   "cell_type": "code",
   "execution_count": 5,
   "id": "1a81e2b7-45df-4d42-85d5-0e2a221a2e77",
   "metadata": {},
   "outputs": [
    {
     "data": {
      "text/plain": [
       "[]"
      ]
     },
     "execution_count": 5,
     "metadata": {},
     "output_type": "execute_result"
    }
   ],
   "source": [
    "[dict(name=str(row[0]), description=str(row[1]), canonical_units=str(row[2])) for row in qres]"
   ]
  },
  {
   "cell_type": "code",
   "execution_count": 6,
   "id": "f69f5984-c157-47f7-91ae-0720fbf2722b",
   "metadata": {},
   "outputs": [],
   "source": [
    "import pandas as pd"
   ]
  },
  {
   "cell_type": "code",
   "execution_count": 7,
   "id": "d054b0e9-4f6d-4fae-8c0e-cedfff86dc1d",
   "metadata": {
    "scrolled": true
   },
   "outputs": [
    {
     "data": {
      "text/html": [
       "<div>\n",
       "<style scoped>\n",
       "    .dataframe tbody tr th:only-of-type {\n",
       "        vertical-align: middle;\n",
       "    }\n",
       "\n",
       "    .dataframe tbody tr th {\n",
       "        vertical-align: top;\n",
       "    }\n",
       "\n",
       "    .dataframe thead th {\n",
       "        text-align: right;\n",
       "    }\n",
       "</style>\n",
       "<table border=\"1\" class=\"dataframe\">\n",
       "  <thead>\n",
       "    <tr style=\"text-align: right;\">\n",
       "      <th></th>\n",
       "    </tr>\n",
       "  </thead>\n",
       "  <tbody>\n",
       "  </tbody>\n",
       "</table>\n",
       "</div>"
      ],
      "text/plain": [
       "Empty DataFrame\n",
       "Columns: []\n",
       "Index: []"
      ]
     },
     "execution_count": 7,
     "metadata": {},
     "output_type": "execute_result"
    }
   ],
   "source": [
    "pd.DataFrame([dict(name=str(row[0]), description=str(row[1]), canonical_units=str(row[2])) for row in qres])"
   ]
  },
  {
   "cell_type": "markdown",
   "id": "17cc9deb-2593-4d67-b273-804816434346",
   "metadata": {},
   "source": [
    "## Another example with multiple standard names\n",
    "\n",
    "The origin of standard names lies in the [cf-conventions](http://cfconventions.org/). The table is provided as XML. "
   ]
  },
  {
   "cell_type": "code",
   "execution_count": 8,
   "id": "d387a615-4800-4683-a035-4127b613f5e0",
   "metadata": {},
   "outputs": [],
   "source": [
    "g = rdflib.Graph()\n",
    "g.parse(source='cf.json', format='json-ld')\n",
    "\n",
    "substring_name = 'wind'\n",
    "\n",
    "qres = g.query(f\"\"\"\n",
    "PREFIX ssno: <https://matthiasprobst.github.io/ssno#>\n",
    "\n",
    "SELECT ?standard_name ?description ?canonical_units\n",
    "WHERE {{\n",
    "    ?sn a ssno:StandardName .\n",
    "    ?sn ssno:standardName ?standard_name .\n",
    "    FILTER (CONTAINS(?standard_name, \"{substring_name}\"))\n",
    "    ?sn ssno:description ?description .\n",
    "    ?sn ssno:canonicalUnits ?canonical_units .\n",
    "}}\n",
    "\"\"\")"
   ]
  },
  {
   "cell_type": "code",
   "execution_count": 9,
   "id": "107598be-43c1-4699-8f60-6f80d52d930d",
   "metadata": {},
   "outputs": [
    {
     "data": {
      "text/html": [
       "<div>\n",
       "<style scoped>\n",
       "    .dataframe tbody tr th:only-of-type {\n",
       "        vertical-align: middle;\n",
       "    }\n",
       "\n",
       "    .dataframe tbody tr th {\n",
       "        vertical-align: top;\n",
       "    }\n",
       "\n",
       "    .dataframe thead th {\n",
       "        text-align: right;\n",
       "    }\n",
       "</style>\n",
       "<table border=\"1\" class=\"dataframe\">\n",
       "  <thead>\n",
       "    <tr style=\"text-align: right;\">\n",
       "      <th></th>\n",
       "    </tr>\n",
       "  </thead>\n",
       "  <tbody>\n",
       "  </tbody>\n",
       "</table>\n",
       "</div>"
      ],
      "text/plain": [
       "Empty DataFrame\n",
       "Columns: []\n",
       "Index: []"
      ]
     },
     "execution_count": 9,
     "metadata": {},
     "output_type": "execute_result"
    }
   ],
   "source": [
    "pd.DataFrame([dict(name=str(row[0]), description=str(row[1]), canonical_units=str(row[2])) for row in qres])"
   ]
  },
  {
   "cell_type": "code",
   "execution_count": 10,
   "id": "2793bce5-b109-451a-9eec-7e9dd79535ba",
   "metadata": {},
   "outputs": [],
   "source": [
    "json_ld_content2 = \"\"\"\n",
    "{\n",
    "  \"@context\": {\n",
    "    \"@import\": \"https://raw.githubusercontent.com/matthiasprobst/ssno/main/ssno_context.jsonld\"\n",
    "  },\n",
    "  \"@graph\": [\n",
    "    {\n",
    "      \"@id\": \"https://doi.org/10.5281/zenodo.10428817\",\n",
    "      \"@type\": \"StandardNameTable\",\n",
    "      \"doi\": \"https://doi.org/10.5281/zenodo.10428817\",\n",
    "      \"has title\": \"My Table\",\n",
    "      \"description\": \"My table description\",\n",
    "      \"standard name\": [\n",
    "        {\n",
    "          \"@id\": \"_:b0\",\n",
    "          \"@type\": \"StandardName\",\n",
    "          \"standard_name\": \"x_velocity\",\n",
    "          \"canonical_units\": \"m/s\",\n",
    "          \"description\": \"Velocity in x-axis direction.\",\n",
    "          \"standard name table\": \"https://doi.org/10.5281/zenodo.10428817\"\n",
    "        },\n",
    "        {\n",
    "          \"@id\": \"_:b1\",\n",
    "          \"@type\": \"StandardName\",\n",
    "          \"standard_name\": \"y_velocity\",\n",
    "          \"canonical_units\": \"m/s\",\n",
    "          \"description\": \"Velocity in y-axis direction.\",\n",
    "          \"standard name table\": \"https://doi.org/10.5281/zenodo.10428817\"\n",
    "        }\n",
    "      ]\n",
    "    }\n",
    "  ]\n",
    "}\n",
    "\"\"\""
   ]
  },
  {
   "cell_type": "code",
   "execution_count": 11,
   "id": "715098a1-1ae9-48bf-bacb-8bc8650c74ac",
   "metadata": {},
   "outputs": [],
   "source": [
    "with open('standard_name_table.jsonld', 'w') as f:\n",
    "    f.write(json_ld_content2)"
   ]
  },
  {
   "cell_type": "code",
   "execution_count": 12,
   "id": "9a91a632-24b5-46df-a9f8-80aaabb929ec",
   "metadata": {},
   "outputs": [
    {
     "name": "stderr",
     "output_type": "stream",
     "text": [
      "https://matthiasprobst.github.io/ssno#has title does not look like a valid URI, trying to serialize this will break.\n"
     ]
    },
    {
     "name": "stdout",
     "output_type": "stream",
     "text": [
      "b0 | http://www.w3.org/1999/02/22-rdf-syntax-ns#type | https://matthiasprobst.github.io/ssno#StandardName\n",
      "b0 | https://matthiasprobst.github.io/ssno#canonical_units | m/s\n",
      "b0 | https://matthiasprobst.github.io/ssno#description | Velocity in x-axis direction.\n",
      "b0 | https://matthiasprobst.github.io/ssno#standardNameTable | https://doi.org/10.5281/zenodo.10428817\n",
      "b0 | https://matthiasprobst.github.io/ssno#standard_name | x_velocity\n",
      "b1 | http://www.w3.org/1999/02/22-rdf-syntax-ns#type | https://matthiasprobst.github.io/ssno#StandardName\n",
      "b1 | https://matthiasprobst.github.io/ssno#canonical_units | m/s\n",
      "b1 | https://matthiasprobst.github.io/ssno#description | Velocity in y-axis direction.\n",
      "b1 | https://matthiasprobst.github.io/ssno#standardNameTable | https://doi.org/10.5281/zenodo.10428817\n",
      "b1 | https://matthiasprobst.github.io/ssno#standard_name | y_velocity\n",
      "https://doi.org/10.5281/zenodo.10428817 | http://www.w3.org/1999/02/22-rdf-syntax-ns#type | https://matthiasprobst.github.io/ssno#StandardNameTable\n",
      "https://doi.org/10.5281/zenodo.10428817 | https://matthiasprobst.github.io/ssno#description | My table description\n",
      "https://doi.org/10.5281/zenodo.10428817 | https://matthiasprobst.github.io/ssno#doi | https://doi.org/10.5281/zenodo.10428817\n",
      "https://doi.org/10.5281/zenodo.10428817 | https://matthiasprobst.github.io/ssno#has title | My Table\n",
      "https://doi.org/10.5281/zenodo.10428817 | https://matthiasprobst.github.io/ssno#standardName | b0\n",
      "https://doi.org/10.5281/zenodo.10428817 | https://matthiasprobst.github.io/ssno#standardName | b1\n"
     ]
    }
   ],
   "source": [
    "g = rdflib.Graph()\n",
    "g.parse('standard_name_table.jsonld', format='json-ld')\n",
    "\n",
    "for s, p, o in sorted(g):\n",
    "    print(s, '|', p, '|', o)"
   ]
  },
  {
   "cell_type": "code",
   "execution_count": null,
   "id": "f5968223-0e63-46f6-a1dc-f68bc54d5410",
   "metadata": {},
   "outputs": [],
   "source": []
  }
 ],
 "metadata": {
  "kernelspec": {
   "display_name": "Python 3 (ipykernel)",
   "language": "python",
   "name": "python3"
  },
  "language_info": {
   "codemirror_mode": {
    "name": "ipython",
    "version": 3
   },
   "file_extension": ".py",
   "mimetype": "text/x-python",
   "name": "python",
   "nbconvert_exporter": "python",
   "pygments_lexer": "ipython3",
   "version": "3.12.0"
  }
 },
 "nbformat": 4,
 "nbformat_minor": 5
}
